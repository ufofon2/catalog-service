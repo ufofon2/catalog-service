{
  "cells": [
    {
      "cell_type": "markdown",
      "metadata": {
        "id": "view-in-github",
        "colab_type": "text"
      },
      "source": [
        "<a href=\"https://colab.research.google.com/github/ufofon2/catalog-service/blob/main/02_vector_db_overview.ipynb\" target=\"_parent\"><img src=\"https://colab.research.google.com/assets/colab-badge.svg\" alt=\"Open In Colab\"/></a>"
      ]
    },
    {
      "cell_type": "markdown",
      "metadata": {
        "id": "RvAcENdTi0vo"
      },
      "source": [
        "# Vector Database\n"
      ]
    },
    {
      "cell_type": "markdown",
      "metadata": {
        "id": "99chL7JLi0vp"
      },
      "source": [
        "Vector Database는 벡터 형태로 데이터를 저장하고 검색하는 데이터베이스입니다. 주로 고차원 벡터 공간에서 유사한 항목을 빠르게 찾기 위해 사용됩니다.\n",
        "\n",
        "다음은 Vector Database의 주요 특징과 사용 사례입니다:\n",
        "\n",
        "주요 특징\n",
        "\n",
        "1. 고차원 데이터 처리: 벡터 데이터는 일반적으로 고차원 공간에 위치하며, Vector Database는 이러한 데이터를 효율적으로 저장하고 검색할 수 있습니다. (https://www.pinecone.io/learn/a-developers-guide-to-ann-algorithms/)\n",
        "2. 유사성 검색: 벡터 간의 유사성을 측정하여 가장 유사한 벡터를 빠르게 찾을 수 있습니다. 이는 코사인 유사도, 유클리드 거리 등을 사용하여 계산됩니다.\n",
        "3. 확장성: 대규모 데이터셋을 처리할 수 있도록 설계되어 있으며, 분산 시스템을 통해 확장 가능합니다.\n",
        "4. 실시간 검색: 실시간으로 유사한 벡터를 검색할 수 있어, 빠른 응답 시간이 요구되는 애플리케이션에 적합합니다.\n",
        "\n",
        "사용 사례\n",
        "\n",
        "1. 추천 시스템: 사용자 행동 데이터를 벡터로 변환하여 유사한 사용자나 아이템을 추천하는 데 사용됩니다.\n",
        "2. 이미지 검색: 이미지 특징을 벡터로 변환하여 유사한 이미지를 검색하는 데 사용됩니다.\n",
        "3. 자연어 처리: 문장을 벡터로 변환하여 유사한 문장을 찾거나, 문서 분류, 클러스터링 등에 사용됩니다.\n",
        "4. 생물정보학: 유전자 서열을 벡터로 변환하여 유사한 서열을 찾는 데 사용됩니다.\n"
      ]
    },
    {
      "cell_type": "markdown",
      "metadata": {
        "id": "4tvvmubzi0vp"
      },
      "source": [
        "이 표는 각 Vector Database의 주요 특징과 사용 사례, 확장성, 실시간 검색 지원 여부를 요약한 것입니다. 각 데이터베이스는 특정 사용 사례에 맞게 최적화되어 있으며, 필요에 따라 적절한 솔루션을 선택할 수 있습니다.\n",
        "\n",
        "| 종류          | 주요 특징                                                     | 사용 사례                                          | 확장성    | 실시간 검색 지원 여부 |\n",
        "| ------------- | ------------------------------------------------------------- | -------------------------------------------------- | --------- | --------------------- |\n",
        "| Pinecone      | 고성능, 분산형, 서버리스 지원                                 | 추천 시스템, 이미지 검색, 자연어 처리, 생물정보학  | 매우 높음 | 지원                  |\n",
        "| FAISS         | Facebook AI가 개발한 라이브러리, 빠른 유사성 검색             | 이미지 검색, 추천 시스템, 문서 검색                | 제한적    | 제한적                |\n",
        "| Milvus        | 오픈소스, 고성능, 분산형, 다양한 인덱싱 알고리즘 지원         | 추천 시스템, 이미지 검색, 비디오 검색, 자연어 처리 | 매우 높음 | 지원                  |\n",
        "| Annoy         | Spotify가 개발한 라이브러리, 메모리 효율적, 빠른 검색         | 음악 추천, 이미지 검색, 유사 항목 검색             | 제한적    | 제한적                |\n",
        "| Elasticsearch | 텍스트 검색에 강점, 벡터 검색 기능 추가                       | 로그 분석, 텍스트 검색, 추천 시스템                | 높음      | 지원                  |\n",
        "| Weaviate      | 오픈소스, 그래프 데이터베이스와 통합, 다양한 데이터 타입 지원 | 추천 시스템, 지식 그래프, 자연어 처리              | 높음      | 지원                  |\n"
      ]
    },
    {
      "cell_type": "markdown",
      "metadata": {
        "id": "Tl-XY282i0vp"
      },
      "source": [
        "## Pinecone\n"
      ]
    },
    {
      "cell_type": "markdown",
      "metadata": {
        "id": "pBuktP48i0vq"
      },
      "source": [
        "https://www.pinecone.io/\n"
      ]
    },
    {
      "cell_type": "markdown",
      "metadata": {
        "id": "ijwyTFPQi0vq"
      },
      "source": [
        "Pinecone는 고성능 벡터 검색 및 유사성 검색을 위한 완전 관리형 인덱싱 및 검색 서비스입니다. 주로 머신 러닝 및 인공지능 애플리케이션에서 사용되며, 대규모 데이터셋에서 유사한 항목을 빠르게 찾는 데 유용합니다.\n",
        "\n",
        "Pinecone는 다음과 같은 주요 기능을 제공합니다:\n",
        "\n",
        "1. 벡터 인덱싱: 고차원 벡터를 효율적으로 인덱싱하여 빠른 검색을 가능하게 합니다.\n",
        "2. 유사성 검색: 유사한 항목을 빠르게 찾기 위해 다양한 유사성 측정 방법을 지원합니다.\n",
        "3. 확장성: 대규모 데이터셋을 처리할 수 있도록 설계되어 있으며, 필요에 따라 자동으로 확장됩니다.\n",
        "4. 완전 관리형 서비스: 인프라 관리 없이 쉽게 사용할 수 있습니다.\n",
        "\n",
        "Pinecone는 주로 추천 시스템, 이미지 검색, 자연어 처리 등 다양한 애플리케이션에서 사용됩니다.\n"
      ]
    }
  ],
  "metadata": {
    "kernelspec": {
      "display_name": "langchain_rag_env",
      "language": "python",
      "name": "python3"
    },
    "language_info": {
      "codemirror_mode": {
        "name": "ipython",
        "version": 3
      },
      "file_extension": ".py",
      "mimetype": "text/x-python",
      "name": "python",
      "nbconvert_exporter": "python",
      "pygments_lexer": "ipython3",
      "version": "3.12.7"
    },
    "colab": {
      "provenance": [],
      "include_colab_link": true
    }
  },
  "nbformat": 4,
  "nbformat_minor": 0
}