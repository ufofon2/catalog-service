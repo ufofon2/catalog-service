{
  "cells": [
    {
      "cell_type": "markdown",
      "metadata": {
        "id": "view-in-github",
        "colab_type": "text"
      },
      "source": [
        "<a href=\"https://colab.research.google.com/github/ufofon2/catalog-service/blob/main/03_pinecone_quickstart_ex.ipynb\" target=\"_parent\"><img src=\"https://colab.research.google.com/assets/colab-badge.svg\" alt=\"Open In Colab\"/></a>"
      ]
    },
    {
      "cell_type": "markdown",
      "metadata": {
        "id": "hVAJHn4HQDBW"
      },
      "source": [
        "### 주요 패키지 설치\n"
      ]
    },
    {
      "cell_type": "code",
      "execution_count": null,
      "metadata": {
        "id": "MX99p_4OQDBW"
      },
      "outputs": [],
      "source": [
        "%pip install -qU python-dotenv"
      ]
    },
    {
      "cell_type": "code",
      "execution_count": null,
      "metadata": {
        "id": "fHOblMmjQDBX"
      },
      "outputs": [],
      "source": [
        "%pip install -qU langchain langchain-community langchain-openai langchain-pinecone"
      ]
    },
    {
      "cell_type": "code",
      "execution_count": null,
      "metadata": {
        "id": "0MFhj358QDBY"
      },
      "outputs": [],
      "source": [
        "%pip install -qU pinecone-client"
      ]
    },
    {
      "cell_type": "code",
      "execution_count": null,
      "metadata": {
        "id": "trAOVkV_QDBY"
      },
      "outputs": [],
      "source": [
        "%pip install -qU pandas matplotlib tqdm ipywidgets"
      ]
    },
    {
      "cell_type": "markdown",
      "metadata": {
        "id": "wcVYH3UjQDBY"
      },
      "source": [
        "### 환경변수 설정\n"
      ]
    },
    {
      "cell_type": "code",
      "execution_count": null,
      "metadata": {
        "id": "_8ok6wOxQDBY"
      },
      "outputs": [],
      "source": [
        "\n",
        "# .env 파일에서 환경 변수를 로드합니다.\n",
        "\n",
        "\n",
        "# 환경 변수에서 PINECONE_API_KEY를 가져옵니다.\n"
      ]
    },
    {
      "cell_type": "markdown",
      "metadata": {
        "id": "8PPQArbFQDBY"
      },
      "source": [
        "### Pinecone 클라이언트 초기화\n"
      ]
    },
    {
      "cell_type": "code",
      "execution_count": null,
      "metadata": {
        "id": "VkFdkAymQDBY"
      },
      "outputs": [],
      "source": [
        "\n",
        "# Pinecone 클라이언트를 초기화합니다.\n",
        "# PINECONE_API_KEY는 환경 변수에서 가져온 API 키입니다.\n"
      ]
    },
    {
      "cell_type": "markdown",
      "metadata": {
        "id": "ENtsNL0NQDBY"
      },
      "source": [
        "### 레코드 업서트(Upsert)\n"
      ]
    },
    {
      "cell_type": "code",
      "execution_count": null,
      "metadata": {
        "id": "UeYo77UhQDBZ"
      },
      "outputs": [],
      "source": [
        "# \"embedding-3d\"라는 이름의 인덱스를 초기화합니다.\n",
        "\n",
        "\n",
        "# 인덱스의 통계 정보를 설명하는 메서드를 호출하고, 그 결과를 출력합니다.\n",
        "# 인덱스의 통계 정보에는 인덱스에 저장된 벡터의 수, 차원, 메타데이터 등의 정보가 포함될 수 있습니다.\n"
      ]
    },
    {
      "cell_type": "code",
      "execution_count": null,
      "metadata": {
        "id": "YSoyLNgmQDBZ"
      },
      "outputs": [],
      "source": [
        "# 벡터를 인덱스에 업서트(upsert)합니다.\n",
        "# \"embedding-3d-ns1\" 네임스페이스에 벡터를 추가합니다.\n",
        "index.upsert(\n",
        "    vectors=[\n",
        "        {\n",
        "            \"id\": \"vec1\",\n",
        "            \"values\": [1.0, 1.5, 2.0],\n",
        "            \"metadata\": {\"genre\": \"drama\"}\n",
        "        }, {\n",
        "            \"id\": \"vec2\",\n",
        "            \"values\": [2.0, 1.0, 0.5],\n",
        "            \"metadata\": {\"genre\": \"action\"}\n",
        "        }, {\n",
        "            \"id\": \"vec3\",\n",
        "            \"values\": [0.1, 0.3, 0.5],\n",
        "            \"metadata\": {\"genre\": \"drama\"}\n",
        "        }, {\n",
        "            \"id\": \"vec4\",\n",
        "            \"values\": [1.0, 2.5, 3.5],\n",
        "            \"metadata\": {\"genre\": \"action\"}\n",
        "        }, {\n",
        "            \"id\": \"vec5\",\n",
        "            \"values\": [3.0, 1.2, 1.3],\n",
        "            \"metadata\": {\"genre\": \"action\"}\n",
        "        }, {\n",
        "            \"id\": \"vec6\",\n",
        "            \"values\": [0.3, 1.1, 2.5],\n",
        "            \"metadata\": {\"genre\": \"drama\"}\n",
        "        }\n",
        "    ],\n",
        "    namespace=\"embedding-3d-ns1\"\n",
        ")"
      ]
    },
    {
      "cell_type": "markdown",
      "metadata": {
        "id": "xmcNHWYLQDBZ"
      },
      "source": [
        "### 쿼리하기\n"
      ]
    },
    {
      "cell_type": "code",
      "execution_count": null,
      "metadata": {
        "id": "xIl-IhsPQDBZ"
      },
      "outputs": [],
      "source": [
        "# 주어진 벡터와 유사한 상위 k개의 항목을 쿼리하여 응답을 반환합니다.\n",
        "# namespace (str): 쿼리할 네임스페이스 이름.\n",
        "# vector (list): 쿼리에 사용할 벡터.\n",
        "# top_k (int): 반환할 상위 k개의 항목 수.\n",
        "# include_values (bool): 응답에 벡터 값을 포함할지 여부.\n",
        "# include_metadata (bool): 응답에 메타데이터를 포함할지 여부.\n",
        "\n",
        "\n",
        "print(response)"
      ]
    },
    {
      "cell_type": "code",
      "execution_count": null,
      "metadata": {
        "id": "fmF7hyjlQDBZ"
      },
      "outputs": [],
      "source": [
        "# 주어진 벡터와 유사한 상위 k개의 항목을 필터 조건으로 쿼리하여 응답을 반환합니다.\n",
        "# filter (dict): 쿼리할 벡터의 필터 조건.\n",
        "\n",
        "\n",
        "print(response)"
      ]
    },
    {
      "cell_type": "code",
      "execution_count": null,
      "metadata": {
        "id": "myr3W5BEQDBZ"
      },
      "outputs": [],
      "source": [
        "# embedding-3d-ns1 네임스페이스의 모든 레코드 id를 조회합니다.\n"
      ]
    },
    {
      "cell_type": "code",
      "execution_count": null,
      "metadata": {
        "id": "GZXBBG8tQDBa"
      },
      "outputs": [],
      "source": [
        "# 지정된 네임스페이스(embedding-3d-ns1)에 있는 모든 ID를 리스트 형태로 반환합니다.\n",
        "\n",
        "# 주어진 ID와 네임스페이스에 해당하는 벡터 데이터를 가져옵니다.\n",
        "# 반환된 데이터는 딕셔너리 형태이며, 그 중에서 'vectors' 키에 해당하는 값을 vectors 변수에 저장합니다.\n",
        "\n",
        "\n",
        "print(vectors.values())"
      ]
    },
    {
      "cell_type": "code",
      "execution_count": null,
      "metadata": {
        "id": "CcHqfMzqQDBa"
      },
      "outputs": [],
      "source": [
        "# ids: 벡터 데이터에서 추출한 ID 리스트.\n",
        "# values: 벡터 데이터에서 추출한 값 리스트.\n",
        "\n",
        "\n",
        "print(ids)\n",
        "print(values)"
      ]
    },
    {
      "cell_type": "code",
      "execution_count": null,
      "metadata": {
        "id": "nZTwYDlvQDBa"
      },
      "outputs": [],
      "source": [
        "\n",
        "\n",
        "# 3D 플롯을 생성합니다.\n",
        "\n",
        "\n",
        "# 각 벡터의 ID와 값을 사용하여 3D 공간에 점을 그립니다.\n",
        "\n",
        "# 쿼리 벡터는 노란색 사각형으로 표시합니다.\n",
        "\n",
        "# 나머지 벡터는 기본 색상으로 표시합니다.\n",
        "\n",
        "\n",
        "# 축 레이블과 제목을 설정합니다.\n",
        "\n",
        "\n",
        "# 플롯을 표시합니다.\n"
      ]
    },
    {
      "cell_type": "markdown",
      "metadata": {
        "id": "BWOaS561QDBa"
      },
      "source": [
        "### 서버리스 인덱스 생성\n"
      ]
    },
    {
      "cell_type": "code",
      "execution_count": null,
      "metadata": {
        "id": "lYkgF2SeQDBa"
      },
      "outputs": [],
      "source": [
        "index_name = \"quickstart\"\n",
        "\n",
        "# Pinecone에 있는 모든 인덱스를 순회합니다.\n",
        "\n",
        "# 인덱스 이름이 \"quickstart\"와 일치하는 경우 해당 인덱스를 삭제합니다.\n"
      ]
    },
    {
      "cell_type": "code",
      "execution_count": null,
      "metadata": {
        "id": "saP2Z8wHQDBa"
      },
      "outputs": [],
      "source": [
        "# Pinecone 인덱스를 생성합니다.\n",
        "# 인덱스 이름은 \"quickstart\"이고, 차원은 1024, 메트릭은 코사인 유사도를 사용합니다.\n",
        "# 인덱스는 AWS의 us-east-1 리전에서 서버리스 사양으로 생성됩니다.\n"
      ]
    },
    {
      "cell_type": "code",
      "execution_count": null,
      "metadata": {
        "id": "TWmqzJNtQDBa"
      },
      "outputs": [],
      "source": [
        "# Pinecone 클라이언트를 사용하여 현재 사용 가능한 모든 인덱스의 목록을 반환합니다.\n"
      ]
    },
    {
      "cell_type": "markdown",
      "metadata": {
        "id": "FLWrgHScQDBa"
      },
      "source": [
        "### 임베딩 벡터 생성\n"
      ]
    },
    {
      "cell_type": "markdown",
      "metadata": {
        "id": "BFvMAxyZQDBa"
      },
      "source": [
        "Pinecone에서 레코드 id는 각 벡터를 고유하게 식별하는 데 사용됩니다.\n",
        "\n",
        "Pinecone에서 id에 대한 주요 제약사항은 다음과 같습니다:\n",
        "\n",
        "- 고유성: 각 벡터의 id는 인덱스 내에서 고유해야 합니다.\n",
        "- 문자열 형식: id는 문자열 형태여야 합니다.\n",
        "- 길이 제한: id의 최대 길이는 512바이트입니다.\n",
        "- 허용 문자: id에는 영숫자, -, \\_, #, :를 사용할 수 있습니다.\n",
        "- 대소문자 구분: id는 대소문자를 구분합니다.\n",
        "- 공백 불가: id에는 공백을 포함할 수 없습니다\n",
        "\n",
        "이러한 제약사항들은 Pinecone 시스템에서 벡터를 효율적으로 관리하고 검색할 수 있도록 하기 위해 설계되었습니다. id를 생성할 때 이러한 규칙을 준수하면 Pinecone 인덱스와 원활하게 작업할 수 있습니다.\n"
      ]
    },
    {
      "cell_type": "code",
      "execution_count": null,
      "metadata": {
        "id": "mTq9DTX6QDBa"
      },
      "outputs": [],
      "source": [
        "data = [\n",
        "    {\"id\": \"vec1\", \"text\": \"사과는 달콤하고 아삭한 식감으로 유명한 인기 있는 과일입니다.\"},\n",
        "    {\"id\": \"vec2\", \"text\": \"애플이라는 기술 회사는 아이폰과 같은 혁신적인 제품으로 유명합니다.\"},\n",
        "    {\"id\": \"vec3\", \"text\": \"많은 사람들이 건강한 간식으로 사과를 즐겨 먹습니다.\"},\n",
        "    {\"id\": \"vec4\", \"text\": \"애플 주식회사는 세련된 디자인과 사용자 친화적인 인터페이스로 기술 산업을 혁신했습니다.\"},\n",
        "    {\"id\": \"vec5\", \"text\": \"하루에 사과 하나면 의사를 멀리할 수 있다는 속담이 있습니다.\"},\n",
        "    {\"id\": \"vec6\", \"text\": \"애플 컴퓨터 회사는 1976년 4월 1일 스티브 잡스, 스티브 워즈니악, 로널드 웨인에 의해 파트너십으로 설립되었습니다.\"}\n",
        "]"
      ]
    },
    {
      "cell_type": "markdown",
      "metadata": {
        "id": "QLWd8ybJQDBa"
      },
      "source": [
        "multilingual-e5-large 임베딩 모델\n",
        "\n",
        "- 마이크로소프트가 만든 1024 차원을 가진 고성능의 오픈소스 다국어 임베딩 모델입니다.\n",
        "- 코사인 메트릭을 사용하고, 입력 토큰으로 최대 507개를, 최대 96번의 배치 처리를 허용합니다.\n",
        "- 지저분한 데이터에서도 잘 작동하고, 짧은 쿼리에 대해 중간 길이의 텍스트 단락(1-2 단락)을 반환하는 데 적합합니다.\n"
      ]
    },
    {
      "cell_type": "code",
      "execution_count": null,
      "metadata": {
        "id": "dp2OxYy3QDBb"
      },
      "outputs": [],
      "source": [
        "# 텍스트 데이터를 임베딩 벡터로 변환합니다.\n",
        "# inputs 매개변수는 임베딩할 텍스트 데이터를 지정합니다. data 리스트의 각 항목에서 'text' 키에 해당하는 값을 추출하여 리스트로 만듭니다.\n",
        "# parameters 매개변수는 추가적인 파라미터를 지정합니다.\n",
        "# \"input_type\"은 입력 데이터의 유형을 지정합니다. \"passage\"는 입력 데이터가 문단 또는 긴 텍스트 조각임을 나타냅니다.\n",
        "# 이는 모델이 입력 데이터를 처리하는 방식을 결정하는 데 사용됩니다.\n",
        "# \"truncate\"는 입력 데이터가 모델의 최대 길이를 초과할 경우 어떻게 처리할지를 지정합니다. \"END\"는 입력 데이터가 너무 길 경우 끝부분을\n",
        "# 잘라내는(truncate) 방식을 의미합니다. 즉, 입력 데이터의 앞부분은 유지하고 뒷부분을 잘라내어 모델의 최대 길이에 맞춥니다.\n",
        "\n",
        "\n",
        "# 첫 번째 임베딩 벡터를 출력합니다.\n"
      ]
    },
    {
      "cell_type": "markdown",
      "metadata": {
        "id": "ZKk2wI4gQDBb"
      },
      "source": [
        "### 레코드 업서트(Upsert)\n"
      ]
    },
    {
      "cell_type": "code",
      "execution_count": null,
      "metadata": {
        "id": "rS8hD9mrQDBb"
      },
      "outputs": [],
      "source": [
        "\n",
        "\n",
        "# 인덱스가 준비될 때까지 대기합니다.\n",
        "\n",
        "# 인덱스를 초기화합니다.\n",
        "\n",
        "# 벡터 리스트를 초기화합니다.\n",
        "\n",
        "\n",
        "# 각 데이터와 임베딩을 결합하여 벡터를 생성합니다.\n",
        "\n",
        "\n",
        "# 벡터를 인덱스에 업서트(upsert)합니다. quickstart_ns1 네임스페이스에 벡터를 추가합니다.\n"
      ]
    },
    {
      "cell_type": "markdown",
      "metadata": {
        "id": "vi7LxHkOQDBb"
      },
      "source": [
        "### 인덱스 통계 정보 확인\n"
      ]
    },
    {
      "cell_type": "code",
      "execution_count": null,
      "metadata": {
        "id": "hLjAHY2bQDBb"
      },
      "outputs": [],
      "source": [
        "# Pinecone 인덱스의 통계 정보를 설명하는 메서드를 호출하고, 그 결과를 출력합니다.\n",
        "# 인덱스의 통계 정보에는 인덱스에 저장된 벡터의 수, 차원, 메타데이터 등의 정보가 포함될 수 있습니다.\n"
      ]
    },
    {
      "cell_type": "markdown",
      "metadata": {
        "id": "VlTk3LBKQDBb"
      },
      "source": [
        "### 쿼리(Query)\n"
      ]
    },
    {
      "cell_type": "markdown",
      "metadata": {
        "id": "vmZeievHQDBb"
      },
      "source": [
        "#### 쿼리 벡터 생성\n"
      ]
    },
    {
      "cell_type": "code",
      "execution_count": null,
      "metadata": {
        "id": "zcP1pkbEQDBb"
      },
      "outputs": [],
      "source": [
        "# 쿼리 텍스트를 정의합니다.\n",
        "query = \"애플이라는 기술 회사에 대해 알려주세요.\"\n",
        "\n",
        "# 쿼리 텍스트를 임베딩 벡터로 변환합니다.\n",
        "# 입력 타입을 쿼리로 설정합니다.\n",
        "\n",
        "\n",
        "# 첫 번째 임베딩 벡터를 출력합니다.\n"
      ]
    },
    {
      "cell_type": "markdown",
      "metadata": {
        "id": "rylQKxZzQDBb"
      },
      "source": [
        "#### 유사 벡터 검색 쿼리 실행\n"
      ]
    },
    {
      "cell_type": "code",
      "execution_count": null,
      "metadata": {
        "id": "4w8UzAxpQDBb"
      },
      "outputs": [],
      "source": [
        "# ns1 네임스페이스에서 쿼리 벡터와 유사한 상위 3개의 벡터를 검색합니다.\n",
        "# 검색 결과에는 벡터 값은 포함되지 않고 메타데이터만 포함됩니다.\n",
        "\n",
        "\n",
        "# 검색 결과를 출력합니다.\n"
      ]
    }
  ],
  "metadata": {
    "kernelspec": {
      "display_name": "langchain_rag_env",
      "language": "python",
      "name": "python3"
    },
    "language_info": {
      "codemirror_mode": {
        "name": "ipython",
        "version": 3
      },
      "file_extension": ".py",
      "mimetype": "text/x-python",
      "name": "python",
      "nbconvert_exporter": "python",
      "pygments_lexer": "ipython3",
      "version": "3.12.7"
    },
    "colab": {
      "provenance": [],
      "include_colab_link": true
    }
  },
  "nbformat": 4,
  "nbformat_minor": 0
}