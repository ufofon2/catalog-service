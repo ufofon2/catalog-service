{
  "cells": [
    {
      "cell_type": "markdown",
      "metadata": {
        "id": "view-in-github",
        "colab_type": "text"
      },
      "source": [
        "<a href=\"https://colab.research.google.com/github/ufofon2/catalog-service/blob/main/05_rag_search.ipynb\" target=\"_parent\"><img src=\"https://colab.research.google.com/assets/colab-badge.svg\" alt=\"Open In Colab\"/></a>"
      ]
    },
    {
      "cell_type": "markdown",
      "metadata": {
        "id": "XtOHEWjHQT_T"
      },
      "source": [
        "### 환경변수 설정\n"
      ]
    },
    {
      "cell_type": "code",
      "execution_count": null,
      "metadata": {
        "id": "QvBrBHfyQT_U"
      },
      "outputs": [],
      "source": [
        "from dotenv import load_dotenv\n",
        "import os\n",
        "\n",
        "load_dotenv()\n",
        "\n",
        "OPENAI_API_KEY = os.environ['OPENAI_API_KEY']\n",
        "PINECONE_API_KEY = os.environ['PINECONE_API_KEY']"
      ]
    },
    {
      "cell_type": "markdown",
      "metadata": {
        "id": "41dw0k72QT_U"
      },
      "source": [
        "### Pinecone 클라이언트 초기화\n"
      ]
    },
    {
      "cell_type": "code",
      "execution_count": null,
      "metadata": {
        "id": "GZHckeJ_QT_U"
      },
      "outputs": [],
      "source": [
        "from pinecone import Pinecone\n",
        "\n",
        "# Pinecone 클라이언트를 초기화합니다.\n",
        "# PINECONE_API_KEY는 환경 변수에서 가져온 API 키입니다.\n",
        "pc = Pinecone(api_key=PINECONE_API_KEY)"
      ]
    },
    {
      "cell_type": "code",
      "execution_count": null,
      "metadata": {
        "id": "uoAzMtRWQT_V"
      },
      "outputs": [],
      "source": [
        "# Pinecone 클라이언트를 사용하여 현재 사용 가능한 모든 인덱스의 목록을 반환합니다.\n",
        "pc.list_indexes()"
      ]
    },
    {
      "cell_type": "code",
      "execution_count": null,
      "metadata": {
        "id": "Jbl105hLQT_V"
      },
      "outputs": [],
      "source": [
        "# 사용할 인덱스 이름을 지정합니다.\n",
        "index_name = \"wiki\"\n",
        "\n",
        "# 지정한 이름으로 Pinecone 인덱스를 가져옵니다.\n",
        "index = pc.Index(index_name)\n",
        "\n",
        "# 인덱스의 통계 정보를 설명합니다.\n",
        "index.describe_index_stats()"
      ]
    },
    {
      "cell_type": "markdown",
      "metadata": {
        "id": "v5P1DGroQT_V"
      },
      "source": [
        "### 검색하기 (Pinecone)\n"
      ]
    },
    {
      "cell_type": "code",
      "execution_count": null,
      "metadata": {
        "id": "A4n5ZX5wQT_V"
      },
      "outputs": [],
      "source": [
        "from langchain_openai import OpenAIEmbeddings\n",
        "\n",
        "# OpenAIEmbeddings 객체를 초기화합니다.\n",
        "# 모델은 \"text-embedding-3-small\"을 사용하고, API 키는 OPENAI_API_KEY를 사용합니다.\n",
        "embedding = OpenAIEmbeddings(model=\"text-embedding-3-small\", api_key=OPENAI_API_KEY)\n",
        "\n",
        "# 질문 리스트를 정의합니다.\n",
        "question = [\"벨기에(Belgium)는 어디 있나요?\"]\n",
        "\n",
        "# 질문을 임베딩하여 벡터로 변환합니다.\n",
        "embedded_question = embedding.embed_documents(question)\n",
        "\n",
        "# 임베딩된 질문 벡터를 출력합니다.\n",
        "print(embedded_question)"
      ]
    },
    {
      "cell_type": "code",
      "execution_count": null,
      "metadata": {
        "id": "rvnh810_QT_V"
      },
      "outputs": [],
      "source": [
        "# Pinecone 인덱스에서 쿼리를 실행합니다.\n",
        "query_result = index.query(\n",
        "    namespace=\"wiki-ns1\",  # wiki-ns1 네임스페이스를 지정합니다.\n",
        "    vector=embedded_question,  # 임베딩된 질문 벡터를 사용합니다.\n",
        "    top_k=5,  # 상위 5개의 결과를 반환합니다.\n",
        "    include_vector=False,  # 벡터를 포함하지 않습니다.\n",
        "    include_metadata=True  # 메타데이터를 포함합니다.\n",
        ")\n",
        "\n",
        "# 쿼리 결과에서 각 매치의 ID를 추출하여 리스트로 만듭니다.\n",
        "result_ids = [r.id for r in query_result.matches]\n",
        "print(result_ids)  # 결과 ID를 출력합니다."
      ]
    },
    {
      "cell_type": "code",
      "execution_count": null,
      "metadata": {
        "id": "rsGXuo4YQT_W"
      },
      "outputs": [],
      "source": [
        "# 쿼리 결과에서 각 매치의 점수와 메타데이터를 출력합니다.\n",
        "for r in query_result.matches:\n",
        "    print(r.score, r.metadata)"
      ]
    },
    {
      "cell_type": "markdown",
      "metadata": {
        "id": "5E4yrw8YQT_W"
      },
      "source": [
        "### 검색하기 (LangChain)\n"
      ]
    },
    {
      "cell_type": "code",
      "execution_count": null,
      "metadata": {
        "id": "f7wYkR4WQT_W"
      },
      "outputs": [],
      "source": [
        "from langchain_pinecone import PineconeVectorStore\n",
        "\n",
        "# PineconeVectorStore 객체를 초기화합니다.\n",
        "# 인덱스는 이전에 정의된 index 객체를 사용하고, 임베딩은 embedding 객체를 사용합니다.\n",
        "# 텍스트 키는 \"full_text\"로 설정합니다.\n",
        "vector_store = PineconeVectorStore(index=index, embedding=embedding, text_key=\"full_text\")\n",
        "\n",
        "# 질문에 대한 유사도 검색을 수행합니다.\n",
        "# query는 question 리스트의 첫 번째 요소를 사용하고, 상위 5개의 결과를 반환합니다.\n",
        "docs = vector_store.similarity_search(query=question[0], k=5, namespace=\"wiki-ns1\")\n",
        "print(docs)\n",
        "\n",
        "# 검색된 문서의 메타데이터를 출력합니다.\n",
        "for doc in docs:\n",
        "    print(doc.metadata)"
      ]
    }
  ],
  "metadata": {
    "kernelspec": {
      "display_name": "langchain_rag_env",
      "language": "python",
      "name": "python3"
    },
    "language_info": {
      "codemirror_mode": {
        "name": "ipython",
        "version": 3
      },
      "file_extension": ".py",
      "mimetype": "text/x-python",
      "name": "python",
      "nbconvert_exporter": "python",
      "pygments_lexer": "ipython3",
      "version": "3.12.7"
    },
    "colab": {
      "provenance": [],
      "include_colab_link": true
    }
  },
  "nbformat": 4,
  "nbformat_minor": 0
}