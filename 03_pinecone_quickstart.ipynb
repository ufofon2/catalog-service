{
  "cells": [
    {
      "cell_type": "markdown",
      "metadata": {
        "id": "view-in-github",
        "colab_type": "text"
      },
      "source": [
        "<a href=\"https://colab.research.google.com/github/ufofon2/catalog-service/blob/main/03_pinecone_quickstart.ipynb\" target=\"_parent\"><img src=\"https://colab.research.google.com/assets/colab-badge.svg\" alt=\"Open In Colab\"/></a>"
      ]
    },
    {
      "cell_type": "markdown",
      "metadata": {
        "id": "RoY67XPFSQwI"
      },
      "source": [
        "### 주요 패키지 설치\n"
      ]
    },
    {
      "cell_type": "code",
      "execution_count": null,
      "metadata": {
        "id": "nCidCbPYSQwI"
      },
      "outputs": [],
      "source": [
        "%pip install -qU python-dotenv"
      ]
    },
    {
      "cell_type": "code",
      "execution_count": null,
      "metadata": {
        "id": "mEMTBBxQSQwJ"
      },
      "outputs": [],
      "source": [
        "%pip install -qU langchain langchain-community langchain-openai langchain-pinecone"
      ]
    },
    {
      "cell_type": "code",
      "execution_count": null,
      "metadata": {
        "id": "XOqhzxR0SQwJ"
      },
      "outputs": [],
      "source": [
        "%pip install -qU pinecone-client"
      ]
    },
    {
      "cell_type": "code",
      "execution_count": null,
      "metadata": {
        "id": "b2UoxYCASQwJ"
      },
      "outputs": [],
      "source": [
        "%pip install -qU pandas matplotlib tqdm ipywidgets"
      ]
    },
    {
      "cell_type": "markdown",
      "metadata": {
        "id": "vXeRegPASQwK"
      },
      "source": [
        "### 환경변수 설정\n"
      ]
    },
    {
      "cell_type": "code",
      "execution_count": null,
      "metadata": {
        "id": "GZF9TWOxSQwK"
      },
      "outputs": [],
      "source": [
        "from dotenv import load_dotenv\n",
        "import os\n",
        "\n",
        "# .env 파일에서 환경 변수를 로드합니다.\n",
        "load_dotenv()\n",
        "\n",
        "# 환경 변수에서 PINECONE_API_KEY를 가져옵니다.\n",
        "PINECONE_API_KEY = os.environ['PINECONE_API_KEY']"
      ]
    },
    {
      "cell_type": "markdown",
      "metadata": {
        "id": "xGg3EAwjSQwK"
      },
      "source": [
        "### Pinecone 클라이언트 초기화\n"
      ]
    },
    {
      "cell_type": "code",
      "execution_count": null,
      "metadata": {
        "id": "ZlZU1L7ASQwK"
      },
      "outputs": [],
      "source": [
        "from pinecone import Pinecone, ServerlessSpec\n",
        "\n",
        "# Pinecone 클라이언트를 초기화합니다.\n",
        "# PINECONE_API_KEY는 환경 변수에서 가져온 API 키입니다.\n",
        "pc = Pinecone(api_key=PINECONE_API_KEY)"
      ]
    },
    {
      "cell_type": "markdown",
      "metadata": {
        "id": "7feGj12wSQwK"
      },
      "source": [
        "### 레코드 업서트(Upsert)\n"
      ]
    },
    {
      "cell_type": "code",
      "execution_count": null,
      "metadata": {
        "id": "3oOsWVZ-SQwK"
      },
      "outputs": [],
      "source": [
        "# \"embedding-3d\"라는 이름의 인덱스를 초기화합니다.\n",
        "index = pc.Index(\"embedding-3d\")\n",
        "\n",
        "# 인덱스의 통계 정보를 설명하는 메서드를 호출하고, 그 결과를 출력합니다.\n",
        "# 인덱스의 통계 정보에는 인덱스에 저장된 벡터의 수, 차원, 메타데이터 등의 정보가 포함될 수 있습니다.\n",
        "index.describe_index_stats()"
      ]
    },
    {
      "cell_type": "code",
      "execution_count": null,
      "metadata": {
        "id": "XREmQIP8SQwK"
      },
      "outputs": [],
      "source": [
        "# 벡터를 인덱스에 업서트(upsert)합니다.\n",
        "# \"embedding-3d-ns1\" 네임스페이스에 벡터를 추가합니다.\n",
        "index.upsert(\n",
        "    vectors=[\n",
        "        {\n",
        "            \"id\": \"vec1\",\n",
        "            \"values\": [1.0, 1.5, 2.0],\n",
        "            \"metadata\": {\"genre\": \"drama\"}\n",
        "        }, {\n",
        "            \"id\": \"vec2\",\n",
        "            \"values\": [2.0, 1.0, 0.5],\n",
        "            \"metadata\": {\"genre\": \"action\"}\n",
        "        }, {\n",
        "            \"id\": \"vec3\",\n",
        "            \"values\": [0.1, 0.3, 0.5],\n",
        "            \"metadata\": {\"genre\": \"drama\"}\n",
        "        }, {\n",
        "            \"id\": \"vec4\",\n",
        "            \"values\": [1.0, 2.5, 3.5],\n",
        "            \"metadata\": {\"genre\": \"action\"}\n",
        "        }, {\n",
        "            \"id\": \"vec5\",\n",
        "            \"values\": [3.0, 1.2, 1.3],\n",
        "            \"metadata\": {\"genre\": \"action\"}\n",
        "        }, {\n",
        "            \"id\": \"vec6\",\n",
        "            \"values\": [0.3, 1.1, 2.5],\n",
        "            \"metadata\": {\"genre\": \"drama\"}\n",
        "        }\n",
        "    ],\n",
        "    namespace=\"embedding-3d-ns1\"\n",
        ")"
      ]
    },
    {
      "cell_type": "markdown",
      "metadata": {
        "id": "8C3mR-MDSQwK"
      },
      "source": [
        "### 쿼리하기\n"
      ]
    },
    {
      "cell_type": "code",
      "execution_count": null,
      "metadata": {
        "id": "1GAP4HSrSQwK"
      },
      "outputs": [],
      "source": [
        "# 주어진 벡터와 유사한 상위 k개의 항목을 쿼리하여 응답을 반환합니다.\n",
        "# namespace (str): 쿼리할 네임스페이스 이름.\n",
        "# vector (list): 쿼리에 사용할 벡터.\n",
        "# top_k (int): 반환할 상위 k개의 항목 수.\n",
        "# include_values (bool): 응답에 벡터 값을 포함할지 여부.\n",
        "# include_metadata (bool): 응답에 메타데이터를 포함할지 여부.\n",
        "response = index.query(\n",
        "    namespace=\"embedding-3d-ns1\",\n",
        "    vector=[0.1, 0.3, 0.7],\n",
        "    top_k=3,\n",
        "    include_values=True,\n",
        "    include_metadata=True\n",
        ")\n",
        "\n",
        "print(response)"
      ]
    },
    {
      "cell_type": "code",
      "execution_count": null,
      "metadata": {
        "id": "J7E3FVb0SQwK"
      },
      "outputs": [],
      "source": [
        "# 주어진 벡터와 유사한 상위 k개의 항목을 필터 조건으로 쿼리하여 응답을 반환합니다.\n",
        "# filter (dict): 쿼리할 벡터의 필터 조건.\n",
        "response = index.query(\n",
        "    namespace=\"embedding-3d-ns1\",\n",
        "    vector=[0.1, 0.3, 0.7],\n",
        "    top_k=3,\n",
        "    include_values=True,\n",
        "    include_metadata=True,\n",
        "    filter={\n",
        "        \"genre\": {\"$eq\": \"drama\"}\n",
        "    }\n",
        ")\n",
        "\n",
        "print(response)"
      ]
    },
    {
      "cell_type": "code",
      "execution_count": null,
      "metadata": {
        "id": "EW0nK73GSQwL"
      },
      "outputs": [],
      "source": [
        "# embedding-3d-ns1 네임스페이스의 모든 레코드 id를 조회합니다.\n",
        "for ids in index.list(namespace=\"embedding-3d-ns1\"):\n",
        "    print(ids)"
      ]
    },
    {
      "cell_type": "code",
      "execution_count": null,
      "metadata": {
        "id": "PxDuuc52SQwL"
      },
      "outputs": [],
      "source": [
        "# 지정된 네임스페이스(embedding-3d-ns1)에 있는 모든 ID를 리스트 형태로 반환합니다.\n",
        "for ids in index.list(namespace=\"embedding-3d-ns1\"):\n",
        "    # 주어진 ID와 네임스페이스에 해당하는 벡터 데이터를 가져옵니다.\n",
        "    # 반환된 데이터는 딕셔너리 형태이며, 그 중에서 'vectors' 키에 해당하는 값을 vectors 변수에 저장합니다.\n",
        "    vectors = index.fetch(ids, namespace=\"embedding-3d-ns1\")['vectors']\n",
        "\n",
        "print(vectors.values())"
      ]
    },
    {
      "cell_type": "code",
      "execution_count": null,
      "metadata": {
        "id": "22oT6ArMSQwL"
      },
      "outputs": [],
      "source": [
        "# ids: 벡터 데이터에서 추출한 ID 리스트.\n",
        "# values: 벡터 데이터에서 추출한 값 리스트.\n",
        "ids = [v['id'] for v in vectors.values()]\n",
        "values = [v['values'] for v in vectors.values()]\n",
        "\n",
        "ids += [\"qv\"]\n",
        "values += [[0.1, 0.3, 0.7]]\n",
        "\n",
        "print(ids)\n",
        "print(values)"
      ]
    },
    {
      "cell_type": "code",
      "execution_count": null,
      "metadata": {
        "id": "FYAjjT5BSQwL"
      },
      "outputs": [],
      "source": [
        "import matplotlib.pyplot as plt\n",
        "\n",
        "# 3D 플롯을 생성합니다.\n",
        "fig = plt.figure()\n",
        "ax = fig.add_subplot(111, projection='3d')\n",
        "\n",
        "# 각 벡터의 ID와 값을 사용하여 3D 공간에 점을 그립니다.\n",
        "for i, id in enumerate(ids):\n",
        "    if id == \"qv\":\n",
        "        # 쿼리 벡터는 노란색 사각형으로 표시합니다.\n",
        "        ax.scatter(values[i][0], values[i][1], values[i][2], label=id, color='y', s=50, marker='s')\n",
        "        ax.text(values[i][0] + 0.1, values[i][1] + 0.1, values[i][2] + 0.1, id)\n",
        "    else:\n",
        "        # 나머지 벡터는 기본 색상으로 표시합니다.\n",
        "        ax.scatter(values[i][0], values[i][1], values[i][2], label=id)\n",
        "        ax.text(values[i][0] + 0.1, values[i][1] + 0.1, values[i][2] + 0.1, id)\n",
        "\n",
        "# 축 레이블과 제목을 설정합니다.\n",
        "ax.set_xlabel('X')\n",
        "ax.set_ylabel('Y')\n",
        "ax.set_zlabel('Z')\n",
        "ax.set_title('Embedding Vector Space')\n",
        "\n",
        "# 플롯을 표시합니다.\n",
        "plt.show()"
      ]
    },
    {
      "cell_type": "markdown",
      "metadata": {
        "id": "g0CeUOawSQwL"
      },
      "source": [
        "### 서버리스 인덱스 생성\n"
      ]
    },
    {
      "cell_type": "code",
      "execution_count": null,
      "metadata": {
        "id": "ONMIdibvSQwL"
      },
      "outputs": [],
      "source": [
        "index_name = \"quickstart\"\n",
        "\n",
        "# Pinecone에 있는 모든 인덱스를 순회합니다.\n",
        "for idx in pc.list_indexes():\n",
        "    # 인덱스 이름이 \"quickstart\"와 일치하는 경우 해당 인덱스를 삭제합니다.\n",
        "    if idx.name == index_name:\n",
        "        pc.delete_index(idx.name)"
      ]
    },
    {
      "cell_type": "code",
      "execution_count": null,
      "metadata": {
        "id": "n9jp4K2gSQwL"
      },
      "outputs": [],
      "source": [
        "# Pinecone 인덱스를 생성합니다.\n",
        "# 인덱스 이름은 \"quickstart\"이고, 차원은 1024, 메트릭은 코사인 유사도를 사용합니다.\n",
        "# 인덱스는 AWS의 us-east-1 리전에서 서버리스 사양으로 생성됩니다.\n",
        "pc.create_index(\n",
        "    name=index_name,\n",
        "    dimension=1024,  # 모델 차원\n",
        "    metric=\"cosine\",  # 모델 메트릭\n",
        "    spec=ServerlessSpec(\n",
        "        cloud=\"aws\",\n",
        "        region=\"us-east-1\"\n",
        "    )\n",
        ")"
      ]
    },
    {
      "cell_type": "code",
      "execution_count": null,
      "metadata": {
        "id": "FydX2EaKSQwL"
      },
      "outputs": [],
      "source": [
        "# Pinecone 클라이언트를 사용하여 현재 사용 가능한 모든 인덱스의 목록을 반환합니다.\n",
        "pc.list_indexes()"
      ]
    },
    {
      "cell_type": "markdown",
      "metadata": {
        "id": "yicfU6xjSQwL"
      },
      "source": [
        "### 임베딩 벡터 생성\n"
      ]
    },
    {
      "cell_type": "markdown",
      "metadata": {
        "id": "IqtYjAjbSQwL"
      },
      "source": [
        "Pinecone에서 레코드 id는 각 벡터를 고유하게 식별하는 데 사용됩니다.\n",
        "\n",
        "Pinecone에서 id에 대한 주요 제약사항은 다음과 같습니다:\n",
        "\n",
        "- 고유성: 각 벡터의 id는 인덱스 내에서 고유해야 합니다.\n",
        "- 문자열 형식: id는 문자열 형태여야 합니다.\n",
        "- 길이 제한: id의 최대 길이는 512바이트입니다.\n",
        "- 허용 문자: id에는 영숫자, -, \\_, #, :를 사용할 수 있습니다.\n",
        "- 대소문자 구분: id는 대소문자를 구분합니다.\n",
        "- 공백 불가: id에는 공백을 포함할 수 없습니다\n",
        "\n",
        "이러한 제약사항들은 Pinecone 시스템에서 벡터를 효율적으로 관리하고 검색할 수 있도록 하기 위해 설계되었습니다. id를 생성할 때 이러한 규칙을 준수하면 Pinecone 인덱스와 원활하게 작업할 수 있습니다.\n"
      ]
    },
    {
      "cell_type": "code",
      "execution_count": null,
      "metadata": {
        "id": "VsG09-vTSQwL"
      },
      "outputs": [],
      "source": [
        "data = [\n",
        "    {\"id\": \"vec1\", \"text\": \"사과는 달콤하고 아삭한 식감으로 유명한 인기 있는 과일입니다.\"},\n",
        "    {\"id\": \"vec2\", \"text\": \"애플이라는 기술 회사는 아이폰과 같은 혁신적인 제품으로 유명합니다.\"},\n",
        "    {\"id\": \"vec3\", \"text\": \"많은 사람들이 건강한 간식으로 사과를 즐겨 먹습니다.\"},\n",
        "    {\"id\": \"vec4\", \"text\": \"애플 주식회사는 세련된 디자인과 사용자 친화적인 인터페이스로 기술 산업을 혁신했습니다.\"},\n",
        "    {\"id\": \"vec5\", \"text\": \"하루에 사과 하나면 의사를 멀리할 수 있다는 속담이 있습니다.\"},\n",
        "    {\"id\": \"vec6\", \"text\": \"애플 컴퓨터 회사는 1976년 4월 1일 스티브 잡스, 스티브 워즈니악, 로널드 웨인에 의해 파트너십으로 설립되었습니다.\"}\n",
        "]"
      ]
    },
    {
      "cell_type": "markdown",
      "metadata": {
        "id": "MZM2F9WtSQwL"
      },
      "source": [
        "multilingual-e5-large 임베딩 모델\n",
        "\n",
        "- 마이크로소프트가 만든 1024 차원을 가진 고성능의 오픈소스 다국어 임베딩 모델입니다.\n",
        "- 코사인 메트릭을 사용하고, 입력 토큰으로 최대 507개를, 최대 96번의 배치 처리를 허용합니다.\n",
        "- 지저분한 데이터에서도 잘 작동하고, 짧은 쿼리에 대해 중간 길이의 텍스트 단락(1-2 단락)을 반환하는 데 적합합니다.\n"
      ]
    },
    {
      "cell_type": "code",
      "execution_count": null,
      "metadata": {
        "id": "A9cXyu6bSQwL"
      },
      "outputs": [],
      "source": [
        "# 텍스트 데이터를 임베딩 벡터로 변환합니다.\n",
        "# inputs 매개변수는 임베딩할 텍스트 데이터를 지정합니다. data 리스트의 각 항목에서 'text' 키에 해당하는 값을 추출하여 리스트로 만듭니다.\n",
        "# parameters 매개변수는 추가적인 파라미터를 지정합니다.\n",
        "# \"input_type\"은 입력 데이터의 유형을 지정합니다. \"passage\"는 입력 데이터가 문단 또는 긴 텍스트 조각임을 나타냅니다.\n",
        "# 이는 모델이 입력 데이터를 처리하는 방식을 결정하는 데 사용됩니다.\n",
        "# \"truncate\"는 입력 데이터가 모델의 최대 길이를 초과할 경우 어떻게 처리할지를 지정합니다. \"END\"는 입력 데이터가 너무 길 경우 끝부분을\n",
        "# 잘라내는(truncate) 방식을 의미합니다. 즉, 입력 데이터의 앞부분은 유지하고 뒷부분을 잘라내어 모델의 최대 길이에 맞춥니다.\n",
        "embeddings = pc.inference.embed(\n",
        "    model=\"multilingual-e5-large\",\n",
        "    inputs=[d['text'] for d in data],\n",
        "    parameters={\"input_type\": \"passage\", \"truncate\": \"END\"}\n",
        ")\n",
        "\n",
        "# 첫 번째 임베딩 벡터를 출력합니다.\n",
        "print(embeddings[0])"
      ]
    },
    {
      "cell_type": "markdown",
      "metadata": {
        "id": "f5JIeaDaSQwL"
      },
      "source": [
        "### 레코드 업서트(Upsert)\n"
      ]
    },
    {
      "cell_type": "code",
      "execution_count": null,
      "metadata": {
        "id": "UwcJN0YoSQwL"
      },
      "outputs": [],
      "source": [
        "import time\n",
        "\n",
        "# 인덱스가 준비될 때까지 대기합니다.\n",
        "while not pc.describe_index(index_name).status['ready']:\n",
        "    time.sleep(1)\n",
        "\n",
        "# 인덱스를 초기화합니다.\n",
        "index = pc.Index(index_name)\n",
        "\n",
        "# 벡터 리스트를 초기화합니다.\n",
        "vectors = []\n",
        "for d, e in zip(data, embeddings):\n",
        "    # 각 데이터와 임베딩을 결합하여 벡터를 생성합니다.\n",
        "    vectors.append({\n",
        "        \"id\": d['id'],\n",
        "        \"values\": e['values'],\n",
        "        \"metadata\": {'text': d['text']}\n",
        "    })\n",
        "\n",
        "# 벡터를 인덱스에 업서트(upsert)합니다. quickstart_ns1 네임스페이스에 벡터를 추가합니다.\n",
        "index.upsert(\n",
        "    vectors=vectors,\n",
        "    namespace=\"quickstart_ns1\"\n",
        ")"
      ]
    },
    {
      "cell_type": "markdown",
      "metadata": {
        "id": "Cgp_d4NnSQwL"
      },
      "source": [
        "### 인덱스 통계 정보 확인\n"
      ]
    },
    {
      "cell_type": "code",
      "execution_count": null,
      "metadata": {
        "id": "WJHit_NaSQwL"
      },
      "outputs": [],
      "source": [
        "# Pinecone 인덱스의 통계 정보를 설명하는 메서드를 호출하고, 그 결과를 출력합니다.\n",
        "# 인덱스의 통계 정보에는 인덱스에 저장된 벡터의 수, 차원, 메타데이터 등의 정보가 포함될 수 있습니다.\n",
        "print(index.describe_index_stats())"
      ]
    },
    {
      "cell_type": "markdown",
      "metadata": {
        "id": "g5B_mGQPSQwM"
      },
      "source": [
        "### 쿼리(Query)\n"
      ]
    },
    {
      "cell_type": "markdown",
      "metadata": {
        "id": "_5Q_YSKYSQwM"
      },
      "source": [
        "#### 쿼리 벡터 생성\n"
      ]
    },
    {
      "cell_type": "code",
      "execution_count": null,
      "metadata": {
        "id": "TOlMrW1YSQwM"
      },
      "outputs": [],
      "source": [
        "# 쿼리 텍스트를 정의합니다.\n",
        "query = \"애플이라는 기술 회사에 대해 알려주세요.\"\n",
        "\n",
        "# 쿼리 텍스트를 임베딩 벡터로 변환합니다.\n",
        "embedding = pc.inference.embed(\n",
        "    model=\"multilingual-e5-large\",\n",
        "    inputs=[query],\n",
        "    parameters={\n",
        "        \"input_type\": \"query\"  # 입력 타입을 쿼리로 설정합니다.\n",
        "    }\n",
        ")\n",
        "\n",
        "# 첫 번째 임베딩 벡터를 출력합니다.\n",
        "print(embedding[0])"
      ]
    },
    {
      "cell_type": "markdown",
      "metadata": {
        "id": "vLQZHbodSQwM"
      },
      "source": [
        "#### 유사 벡터 검색 쿼리 실행\n"
      ]
    },
    {
      "cell_type": "code",
      "execution_count": null,
      "metadata": {
        "id": "C9RoJQBsSQwM"
      },
      "outputs": [],
      "source": [
        "# ns1 네임스페이스에서 쿼리 벡터와 유사한 상위 3개의 벡터를 검색합니다.\n",
        "# 검색 결과에는 벡터 값은 포함되지 않고 메타데이터만 포함됩니다.\n",
        "results = index.query(\n",
        "    namespace=\"quickstart_ns1\",\n",
        "    vector=embedding[0].values,\n",
        "    top_k=3,\n",
        "    include_values=False,\n",
        "    include_metadata=True\n",
        ")\n",
        "\n",
        "# 검색 결과를 출력합니다.\n",
        "print(results)"
      ]
    }
  ],
  "metadata": {
    "kernelspec": {
      "display_name": "langchain_rag_env",
      "language": "python",
      "name": "python3"
    },
    "language_info": {
      "codemirror_mode": {
        "name": "ipython",
        "version": 3
      },
      "file_extension": ".py",
      "mimetype": "text/x-python",
      "name": "python",
      "nbconvert_exporter": "python",
      "pygments_lexer": "ipython3",
      "version": "3.12.7"
    },
    "colab": {
      "provenance": [],
      "include_colab_link": true
    }
  },
  "nbformat": 4,
  "nbformat_minor": 0
}